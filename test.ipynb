{
 "cells": [
  {
   "cell_type": "code",
   "execution_count": 1,
   "metadata": {
    "collapsed": true
   },
   "outputs": [],
   "source": [
    "from math import sqrt\n",
    "from sklearn.metrics import mean_squared_error"
   ]
  },
  {
   "cell_type": "code",
   "execution_count": 2,
   "metadata": {},
   "outputs": [
    {
     "data": {
      "text/html": [
       "<div>\n",
       "<style>\n",
       "    .dataframe thead tr:only-child th {\n",
       "        text-align: right;\n",
       "    }\n",
       "\n",
       "    .dataframe thead th {\n",
       "        text-align: left;\n",
       "    }\n",
       "\n",
       "    .dataframe tbody tr th {\n",
       "        vertical-align: top;\n",
       "    }\n",
       "</style>\n",
       "<table border=\"1\" class=\"dataframe\">\n",
       "  <thead>\n",
       "    <tr style=\"text-align: right;\">\n",
       "      <th></th>\n",
       "      <th>Date</th>\n",
       "      <th>Open</th>\n",
       "      <th>High</th>\n",
       "      <th>Low</th>\n",
       "      <th>Close</th>\n",
       "      <th>Volume</th>\n",
       "      <th>Market Cap</th>\n",
       "    </tr>\n",
       "  </thead>\n",
       "  <tbody>\n",
       "    <tr>\n",
       "      <th>0</th>\n",
       "      <td>2018-04-29</td>\n",
       "      <td>9346.41</td>\n",
       "      <td>9531.49</td>\n",
       "      <td>9193.71</td>\n",
       "      <td>9419.08</td>\n",
       "      <td>8853000000</td>\n",
       "      <td>158928000000</td>\n",
       "    </tr>\n",
       "    <tr>\n",
       "      <th>1</th>\n",
       "      <td>2018-04-28</td>\n",
       "      <td>8939.27</td>\n",
       "      <td>9412.09</td>\n",
       "      <td>8931.99</td>\n",
       "      <td>9348.48</td>\n",
       "      <td>7805480000</td>\n",
       "      <td>151991000000</td>\n",
       "    </tr>\n",
       "    <tr>\n",
       "      <th>2</th>\n",
       "      <td>2018-04-27</td>\n",
       "      <td>9290.63</td>\n",
       "      <td>9375.47</td>\n",
       "      <td>8987.05</td>\n",
       "      <td>8987.05</td>\n",
       "      <td>7566290000</td>\n",
       "      <td>157948000000</td>\n",
       "    </tr>\n",
       "    <tr>\n",
       "      <th>3</th>\n",
       "      <td>2018-04-26</td>\n",
       "      <td>8867.32</td>\n",
       "      <td>9281.51</td>\n",
       "      <td>8727.09</td>\n",
       "      <td>9281.51</td>\n",
       "      <td>8970560000</td>\n",
       "      <td>150736000000</td>\n",
       "    </tr>\n",
       "    <tr>\n",
       "      <th>4</th>\n",
       "      <td>2018-04-25</td>\n",
       "      <td>9701.03</td>\n",
       "      <td>9745.32</td>\n",
       "      <td>8799.84</td>\n",
       "      <td>8845.74</td>\n",
       "      <td>11083100000</td>\n",
       "      <td>164893000000</td>\n",
       "    </tr>\n",
       "  </tbody>\n",
       "</table>\n",
       "</div>"
      ],
      "text/plain": [
       "        Date     Open     High      Low    Close       Volume    Market Cap\n",
       "0 2018-04-29  9346.41  9531.49  9193.71  9419.08   8853000000  158928000000\n",
       "1 2018-04-28  8939.27  9412.09  8931.99  9348.48   7805480000  151991000000\n",
       "2 2018-04-27  9290.63  9375.47  8987.05  8987.05   7566290000  157948000000\n",
       "3 2018-04-26  8867.32  9281.51  8727.09  9281.51   8970560000  150736000000\n",
       "4 2018-04-25  9701.03  9745.32  8799.84  8845.74  11083100000  164893000000"
      ]
     },
     "execution_count": 2,
     "metadata": {},
     "output_type": "execute_result"
    }
   ],
   "source": [
    "import pandas as pd\n",
    "import time\n",
    "import seaborn as sns\n",
    "import matplotlib.pyplot as plt\n",
    "import datetime\n",
    "import numpy as np\n",
    "from pandas import read_csv\n",
    "# get market info for bitcoin from the start of 2014 to the current day\n",
    "bitcoin_market_info = pd.read_html(\"https://coinmarketcap.com/currencies/bitcoin/historical-data/?start=20131227&end=\"+time.strftime(\"%Y%m%d\"))[0]\n",
    "# convert the date string to the correct date format\n",
    "bitcoin_market_info = bitcoin_market_info.assign(Date=pd.to_datetime(bitcoin_market_info['Date']))\n",
    "# convert to int\n",
    "bitcoin_market_info['Volume'] = bitcoin_market_info['Volume'].astype('int64')\n",
    "# look at the first few rows\n",
    "bitcoin_market_info.head()\n",
    "# load dataset\n",
    "#bitcoin_market_info = read_csv('bitcoin_data.csv', header=0, index_col=0)"
   ]
  },
  {
   "cell_type": "code",
   "execution_count": 3,
   "metadata": {},
   "outputs": [
    {
     "data": {
      "text/html": [
       "<div>\n",
       "<style>\n",
       "    .dataframe thead tr:only-child th {\n",
       "        text-align: right;\n",
       "    }\n",
       "\n",
       "    .dataframe thead th {\n",
       "        text-align: left;\n",
       "    }\n",
       "\n",
       "    .dataframe tbody tr th {\n",
       "        vertical-align: top;\n",
       "    }\n",
       "</style>\n",
       "<table border=\"1\" class=\"dataframe\">\n",
       "  <thead>\n",
       "    <tr style=\"text-align: right;\">\n",
       "      <th></th>\n",
       "      <th>Date</th>\n",
       "      <th>Open</th>\n",
       "      <th>High</th>\n",
       "      <th>Low</th>\n",
       "      <th>Close</th>\n",
       "      <th>Volume</th>\n",
       "    </tr>\n",
       "  </thead>\n",
       "  <tbody>\n",
       "    <tr>\n",
       "      <th>1584</th>\n",
       "      <td>2013-12-27</td>\n",
       "      <td>763.28</td>\n",
       "      <td>777.51</td>\n",
       "      <td>713.60</td>\n",
       "      <td>735.07</td>\n",
       "      <td>46862700</td>\n",
       "    </tr>\n",
       "    <tr>\n",
       "      <th>1583</th>\n",
       "      <td>2013-12-28</td>\n",
       "      <td>737.98</td>\n",
       "      <td>747.06</td>\n",
       "      <td>705.35</td>\n",
       "      <td>727.83</td>\n",
       "      <td>32505800</td>\n",
       "    </tr>\n",
       "    <tr>\n",
       "      <th>1582</th>\n",
       "      <td>2013-12-29</td>\n",
       "      <td>728.05</td>\n",
       "      <td>748.61</td>\n",
       "      <td>714.44</td>\n",
       "      <td>745.05</td>\n",
       "      <td>19011300</td>\n",
       "    </tr>\n",
       "    <tr>\n",
       "      <th>1581</th>\n",
       "      <td>2013-12-30</td>\n",
       "      <td>741.35</td>\n",
       "      <td>766.60</td>\n",
       "      <td>740.24</td>\n",
       "      <td>756.13</td>\n",
       "      <td>20707700</td>\n",
       "    </tr>\n",
       "    <tr>\n",
       "      <th>1580</th>\n",
       "      <td>2013-12-31</td>\n",
       "      <td>760.32</td>\n",
       "      <td>760.58</td>\n",
       "      <td>738.17</td>\n",
       "      <td>754.01</td>\n",
       "      <td>20897300</td>\n",
       "    </tr>\n",
       "  </tbody>\n",
       "</table>\n",
       "</div>"
      ],
      "text/plain": [
       "           Date    Open    High     Low   Close    Volume\n",
       "1584 2013-12-27  763.28  777.51  713.60  735.07  46862700\n",
       "1583 2013-12-28  737.98  747.06  705.35  727.83  32505800\n",
       "1582 2013-12-29  728.05  748.61  714.44  745.05  19011300\n",
       "1581 2013-12-30  741.35  766.60  740.24  756.13  20707700\n",
       "1580 2013-12-31  760.32  760.58  738.17  754.01  20897300"
      ]
     },
     "execution_count": 3,
     "metadata": {},
     "output_type": "execute_result"
    }
   ],
   "source": [
    "model_data = bitcoin_market_info[['Date','Open','High','Low','Close','Volume']]\n",
    "# need to reverse the data frame so that subsequent rows represent later timepoints\n",
    "model_data = model_data.sort_values(by='Date')\n",
    "model_data.head()"
   ]
  },
  {
   "cell_type": "code",
   "execution_count": 4,
   "metadata": {
    "collapsed": true
   },
   "outputs": [],
   "source": [
    "model_data = bitcoin_market_info.sort_values(by='Date')\n",
    "model_data.head()\n",
    "start_date = '2013-12-29'\n",
    "end_date = '2018-4-01'\n",
    "model_data = model_data[model_data['Date']>=start_date]\n",
    "model_data = model_data[model_data['Date']<=end_date]\n",
    "model_data2 = model_data\n",
    "model_data = model_data.drop('Date', 1)\n"
   ]
  },
  {
   "cell_type": "code",
   "execution_count": 5,
   "metadata": {
    "collapsed": true
   },
   "outputs": [],
   "source": [
    "split = int(len(model_data)/10)\n",
    "training_set, test_set = model_data[0:split*9], model_data[split:]\n"
   ]
  },
  {
   "cell_type": "code",
   "execution_count": 6,
   "metadata": {
    "collapsed": true
   },
   "outputs": [],
   "source": [
    "window_len = 10\n",
    "norm_cols = ['Open', 'High', 'Low', 'Close', 'Volume', 'Market Cap']\n",
    "LSTM_training_inputs = []\n",
    "for i in range(len(training_set)-window_len):\n",
    "    temp_set = training_set[i:(i+window_len)].copy()\n",
    "    for col in norm_cols:\n",
    "        temp_set.loc[:, col] = temp_set[col]/temp_set[col].iloc[0] - 1\n",
    "    LSTM_training_inputs.append(temp_set)\n",
    "LSTM_training_outputs = (training_set['Close'][window_len:].values/training_set['Close'][:-window_len].values)-1\n",
    "LSTM_test_inputs = []\n",
    "for i in range(len(test_set)-window_len):\n",
    "    temp_set = test_set[i:(i+window_len)].copy()\n",
    "    for col in norm_cols:\n",
    "        temp_set.loc[:, col] = temp_set[col]/temp_set[col].iloc[0] - 1\n",
    "    LSTM_test_inputs.append(temp_set)\n",
    "LSTM_test_outputs = (test_set['Close'][window_len:].values/test_set['Close'][:-window_len].values)-1"
   ]
  },
  {
   "cell_type": "code",
   "execution_count": 7,
   "metadata": {
    "collapsed": true
   },
   "outputs": [],
   "source": [
    "LSTM_training_inputs = [np.array(LSTM_training_input) for LSTM_training_input in LSTM_training_inputs]\n",
    "LSTM_training_inputs = np.array(LSTM_training_inputs)\n",
    "\n",
    "LSTM_test_inputs = [np.array(LSTM_test_inputs) for LSTM_test_inputs in LSTM_test_inputs]\n",
    "LSTM_test_inputs = np.array(LSTM_test_inputs)"
   ]
  },
  {
   "cell_type": "code",
   "execution_count": 8,
   "metadata": {},
   "outputs": [
    {
     "name": "stderr",
     "output_type": "stream",
     "text": [
      "/Users/junyi_chen/anaconda/lib/python2.7/site-packages/h5py/__init__.py:34: FutureWarning: Conversion of the second argument of issubdtype from `float` to `np.floating` is deprecated. In future, it will be treated as `np.float64 == np.dtype(float).type`.\n",
      "  from ._conv import register_converters as _register_converters\n",
      "Using TensorFlow backend.\n"
     ]
    }
   ],
   "source": [
    "# import the relevant Keras modules\n",
    "from keras.models import Sequential\n",
    "from keras.layers import Activation, Dense\n",
    "from keras.layers import LSTM\n",
    "from keras.layers import Dropout\n",
    "\n",
    "def build_model(inputs, output_size, neurons, activ_func=\"linear\",\n",
    "                dropout=0.25, loss=\"mae\", optimizer=\"adam\"):\n",
    "    model = Sequential()\n",
    "\n",
    "    model.add(LSTM(neurons, input_shape=(inputs.shape[1], inputs.shape[2])))\n",
    "    model.add(Dropout(dropout))\n",
    "    model.add(Dense(units=output_size))\n",
    "    model.add(Activation(activ_func))\n",
    "\n",
    "    model.compile(loss=loss, optimizer=optimizer)\n",
    "    return model"
   ]
  },
  {
   "cell_type": "code",
   "execution_count": 9,
   "metadata": {
    "collapsed": true
   },
   "outputs": [],
   "source": [
    "model = build_model(LSTM_training_inputs, output_size=1, neurons = 15)"
   ]
  },
  {
   "cell_type": "code",
   "execution_count": 10,
   "metadata": {
    "collapsed": true
   },
   "outputs": [],
   "source": [
    "predict_len=1"
   ]
  },
  {
   "cell_type": "code",
   "execution_count": 11,
   "metadata": {
    "collapsed": true
   },
   "outputs": [],
   "source": [
    "LSTM_test_inputs = []\n",
    "for i in range(len(test_set)-window_len-predict_len):\n",
    "    temp_set = test_set[i:(i+window_len)].copy()\n",
    "    for col in norm_cols:\n",
    "        temp_set.loc[:, col] = temp_set[col]/temp_set[col].iloc[0] - 1\n",
    "    LSTM_test_inputs.append(temp_set)\n",
    "LSTM_test_outputs = (test_set['Close'][window_len+predict_len:].values/test_set['Close'][:-window_len-predict_len].values)-1"
   ]
  },
  {
   "cell_type": "code",
   "execution_count": 12,
   "metadata": {
    "collapsed": true
   },
   "outputs": [],
   "source": [
    "LSTM_training_inputs = [np.array(LSTM_training_input) for LSTM_training_input in LSTM_training_inputs]\n",
    "LSTM_training_inputs = np.array(LSTM_training_inputs)\n",
    "\n",
    "LSTM_test_inputs = [np.array(LSTM_test_inputs) for LSTM_test_inputs in LSTM_test_inputs]\n",
    "LSTM_test_inputs = np.array(LSTM_test_inputs)"
   ]
  },
  {
   "cell_type": "code",
   "execution_count": 13,
   "metadata": {},
   "outputs": [
    {
     "data": {
      "text/plain": [
       "(1385, 10, 6)"
      ]
     },
     "execution_count": 13,
     "metadata": {},
     "output_type": "execute_result"
    }
   ],
   "source": [
    "LSTM_training_inputs.shape"
   ]
  },
  {
   "cell_type": "code",
   "execution_count": 14,
   "metadata": {},
   "outputs": [
    {
     "name": "stdout",
     "output_type": "stream",
     "text": [
      "Train on 1385 samples, validate on 1389 samples\n",
      "Epoch 1/70\n",
      " - 11s - loss: 0.0533 - val_loss: 0.0513\n",
      "Epoch 2/70\n",
      " - 11s - loss: 0.0382 - val_loss: 0.0433\n",
      "Epoch 3/70\n",
      " - 11s - loss: 0.0341 - val_loss: 0.0407\n",
      "Epoch 4/70\n",
      " - 11s - loss: 0.0313 - val_loss: 0.0410\n",
      "Epoch 5/70\n",
      " - 11s - loss: 0.0306 - val_loss: 0.0395\n",
      "Epoch 6/70\n",
      " - 12s - loss: 0.0299 - val_loss: 0.0413\n",
      "Epoch 7/70\n",
      " - 11s - loss: 0.0300 - val_loss: 0.0387\n",
      "Epoch 8/70\n",
      " - 12s - loss: 0.0296 - val_loss: 0.0395\n",
      "Epoch 9/70\n",
      " - 11s - loss: 0.0295 - val_loss: 0.0387\n",
      "Epoch 10/70\n",
      " - 11s - loss: 0.0286 - val_loss: 0.0393\n",
      "Epoch 11/70\n",
      " - 11s - loss: 0.0283 - val_loss: 0.0386\n",
      "Epoch 12/70\n",
      " - 11s - loss: 0.0279 - val_loss: 0.0388\n",
      "Epoch 13/70\n",
      " - 12s - loss: 0.0281 - val_loss: 0.0385\n",
      "Epoch 14/70\n",
      " - 12s - loss: 0.0284 - val_loss: 0.0384\n",
      "Epoch 15/70\n",
      " - 11s - loss: 0.0281 - val_loss: 0.0395\n",
      "Epoch 16/70\n",
      " - 11s - loss: 0.0281 - val_loss: 0.0384\n",
      "Epoch 17/70\n",
      " - 12s - loss: 0.0282 - val_loss: 0.0402\n",
      "Epoch 18/70\n",
      " - 11s - loss: 0.0272 - val_loss: 0.0394\n",
      "Epoch 19/70\n",
      " - 11s - loss: 0.0276 - val_loss: 0.0398\n",
      "Epoch 20/70\n",
      " - 11s - loss: 0.0283 - val_loss: 0.0386\n",
      "Epoch 21/70\n",
      " - 12s - loss: 0.0272 - val_loss: 0.0394\n",
      "Epoch 22/70\n",
      " - 11s - loss: 0.0279 - val_loss: 0.0397\n",
      "Epoch 23/70\n",
      " - 11s - loss: 0.0273 - val_loss: 0.0385\n",
      "Epoch 24/70\n",
      " - 12s - loss: 0.0279 - val_loss: 0.0380\n",
      "Epoch 25/70\n",
      " - 11s - loss: 0.0282 - val_loss: 0.0386\n",
      "Epoch 26/70\n",
      " - 11s - loss: 0.0279 - val_loss: 0.0385\n",
      "Epoch 27/70\n",
      " - 11s - loss: 0.0279 - val_loss: 0.0382\n",
      "Epoch 28/70\n",
      " - 12s - loss: 0.0272 - val_loss: 0.0385\n",
      "Epoch 29/70\n",
      " - 11s - loss: 0.0278 - val_loss: 0.0395\n",
      "Epoch 30/70\n",
      " - 11s - loss: 0.0274 - val_loss: 0.0383\n",
      "Epoch 31/70\n",
      " - 11s - loss: 0.0274 - val_loss: 0.0383\n",
      "Epoch 32/70\n",
      " - 11s - loss: 0.0269 - val_loss: 0.0386\n",
      "Epoch 33/70\n",
      " - 11s - loss: 0.0278 - val_loss: 0.0387\n",
      "Epoch 34/70\n",
      " - 11s - loss: 0.0279 - val_loss: 0.0386\n",
      "Epoch 35/70\n",
      " - 12s - loss: 0.0267 - val_loss: 0.0416\n",
      "Epoch 36/70\n",
      " - 12s - loss: 0.0272 - val_loss: 0.0382\n",
      "Epoch 37/70\n",
      " - 13s - loss: 0.0272 - val_loss: 0.0389\n",
      "Epoch 38/70\n",
      " - 11s - loss: 0.0278 - val_loss: 0.0385\n",
      "Epoch 39/70\n",
      " - 11s - loss: 0.0270 - val_loss: 0.0384\n",
      "Epoch 40/70\n",
      " - 11s - loss: 0.0269 - val_loss: 0.0399\n",
      "Epoch 41/70\n",
      " - 11s - loss: 0.0276 - val_loss: 0.0390\n",
      "Epoch 42/70\n",
      " - 11s - loss: 0.0275 - val_loss: 0.0387\n",
      "Epoch 43/70\n",
      " - 11s - loss: 0.0265 - val_loss: 0.0387\n",
      "Epoch 44/70\n",
      " - 11s - loss: 0.0269 - val_loss: 0.0379\n",
      "Epoch 45/70\n",
      " - 11s - loss: 0.0275 - val_loss: 0.0394\n",
      "Epoch 46/70\n",
      " - 12s - loss: 0.0275 - val_loss: 0.0393\n",
      "Epoch 47/70\n",
      " - 11s - loss: 0.0269 - val_loss: 0.0381\n",
      "Epoch 48/70\n",
      " - 11s - loss: 0.0267 - val_loss: 0.0382\n",
      "Epoch 49/70\n",
      " - 11s - loss: 0.0276 - val_loss: 0.0389\n",
      "Epoch 50/70\n",
      " - 12s - loss: 0.0269 - val_loss: 0.0387\n",
      "Epoch 51/70\n",
      " - 12s - loss: 0.0266 - val_loss: 0.0385\n",
      "Epoch 52/70\n",
      " - 11s - loss: 0.0273 - val_loss: 0.0386\n",
      "Epoch 53/70\n",
      " - 11s - loss: 0.0273 - val_loss: 0.0383\n",
      "Epoch 54/70\n",
      " - 12s - loss: 0.0271 - val_loss: 0.0384\n",
      "Epoch 55/70\n",
      " - 12s - loss: 0.0271 - val_loss: 0.0393\n",
      "Epoch 56/70\n",
      " - 12s - loss: 0.0272 - val_loss: 0.0398\n",
      "Epoch 57/70\n",
      " - 11s - loss: 0.0272 - val_loss: 0.0382\n",
      "Epoch 58/70\n",
      " - 11s - loss: 0.0266 - val_loss: 0.0384\n",
      "Epoch 59/70\n",
      " - 12s - loss: 0.0268 - val_loss: 0.0382\n",
      "Epoch 60/70\n",
      " - 13s - loss: 0.0266 - val_loss: 0.0384\n",
      "Epoch 61/70\n",
      " - 12s - loss: 0.0265 - val_loss: 0.0381\n",
      "Epoch 62/70\n",
      " - 12s - loss: 0.0269 - val_loss: 0.0387\n",
      "Epoch 63/70\n",
      " - 11s - loss: 0.0271 - val_loss: 0.0384\n",
      "Epoch 64/70\n",
      " - 13s - loss: 0.0274 - val_loss: 0.0385\n",
      "Epoch 65/70\n",
      " - 13s - loss: 0.0269 - val_loss: 0.0381\n",
      "Epoch 66/70\n",
      " - 13s - loss: 0.0269 - val_loss: 0.0392\n",
      "Epoch 67/70\n",
      " - 13s - loss: 0.0270 - val_loss: 0.0395\n",
      "Epoch 68/70\n",
      " - 12s - loss: 0.0276 - val_loss: 0.0382\n",
      "Epoch 69/70\n",
      " - 12s - loss: 0.0271 - val_loss: 0.0389\n",
      "Epoch 70/70\n",
      " - 12s - loss: 0.0274 - val_loss: 0.0389\n"
     ]
    }
   ],
   "source": [
    "history = model.fit(LSTM_training_inputs, LSTM_training_outputs, \n",
    "                            epochs=70, batch_size=1, verbose=2, shuffle=True, validation_data = (LSTM_test_inputs,LSTM_test_outputs))"
   ]
  },
  {
   "cell_type": "code",
   "execution_count": 15,
   "metadata": {},
   "outputs": [
    {
     "data": {
      "image/png": "[encoded data removed]",
      "text/plain": [
       "<matplotlib.figure.Figure at 0x11faa2d10>"
      ]
     },
     "metadata": {},
     "output_type": "display_data"
    }
   ],
   "source": [
    "fig, ax1 = plt.subplots(1,1)\n",
    "\n",
    "ax1.plot(history.epoch, history.history['loss'])\n",
    "ax1.set_title('Training Error')\n",
    "\n",
    "if model.loss == 'mae':\n",
    "    ax1.set_ylabel('Mean Absolute Error (MAE)',fontsize=12)\n",
    "# just in case you decided to change the model loss calculation\n",
    "else:\n",
    "    ax1.set_ylabel('Model Loss',fontsize=12)\n",
    "ax1.set_xlabel('# Epochs',fontsize=12)\n",
    "plt.show()"
   ]
  },
  {
   "cell_type": "code",
   "execution_count": 17,
   "metadata": {},
   "outputs": [
    {
     "data": {
      "image/png": "[encoded data removed]",
      "text/plain": [
       "<matplotlib.figure.Figure at 0x1200cd650>"
      ]
     },
     "metadata": {},
     "output_type": "display_data"
    }
   ],
   "source": [
    "from mpl_toolkits.axes_grid1.inset_locator import zoomed_inset_axes\n",
    "from mpl_toolkits.axes_grid1.inset_locator import mark_inset\n",
    "plt.close()\n",
    "y1=training_set['Close'][window_len:]\n",
    "y2=((np.transpose(model.predict(LSTM_training_inputs))+1) * training_set['Close'].values[:-window_len])[0]\n",
    "plt.plot(model_data2['Date'][window_len:split*9].astype(datetime.datetime),\n",
    "         y1,label='Actual')\n",
    "plt.plot(model_data2['Date'][window_len+1:split*9+1].astype(datetime.datetime),y2, \n",
    "         label='Predicted')\n",
    "plt.legend(bbox_to_anchor=(0.15, 1), loc=2, borderaxespad=0., prop={'size': 10})\n",
    "plt.show()"
   ]
  },
  {
   "cell_type": "code",
   "execution_count": 18,
   "metadata": {},
   "outputs": [
    {
     "name": "stdout",
     "output_type": "stream",
     "text": [
      "Test RMSE: 60.333\n"
     ]
    }
   ],
   "source": [
    "rmse = sqrt(mean_squared_error(y1, y2))\n",
    "print('Test RMSE: %.3f' % rmse)"
   ]
  },
  {
   "cell_type": "code",
   "execution_count": null,
   "metadata": {
    "collapsed": true
   },
   "outputs": [],
   "source": []
  }
 ],
 "metadata": {
  "kernelspec": {
   "display_name": "Python 2",
   "language": "python",
   "name": "python2"
  },
  "language_info": {
   "codemirror_mode": {
    "name": "ipython",
    "version": 2
   },
   "file_extension": ".py",
   "mimetype": "text/x-python",
   "name": "python",
   "nbconvert_exporter": "python",
   "pygments_lexer": "ipython2",
   "version": "2.7.14"
  }
 },
 "nbformat": 4,
 "nbformat_minor": 2
}
